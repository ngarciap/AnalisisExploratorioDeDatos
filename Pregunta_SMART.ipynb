{
  "nbformat": 4,
  "nbformat_minor": 0,
  "metadata": {
    "colab": {
      "provenance": [],
      "authorship_tag": "ABX9TyOz82Zah65rm8xr3e0E+fSe",
      "include_colab_link": true
    },
    "kernelspec": {
      "name": "python3",
      "display_name": "Python 3"
    },
    "language_info": {
      "name": "python"
    }
  },
  "cells": [
    {
      "cell_type": "markdown",
      "metadata": {
        "id": "view-in-github",
        "colab_type": "text"
      },
      "source": [
        "<a href=\"https://colab.research.google.com/github/ngarciap/AnalisisExploratorioDeDatos/blob/main/Pregunta_SMART.ipynb\" target=\"_parent\"><img src=\"https://colab.research.google.com/assets/colab-badge.svg\" alt=\"Open In Colab\"/></a>"
      ]
    },
    {
      "cell_type": "code",
      "execution_count": null,
      "metadata": {
        "id": "Pi2dOsxl6uQk"
      },
      "outputs": [],
      "source": []
    },
    {
      "cell_type": "markdown",
      "source": [
        "**Análisis Exploratorio de datos - pregunta SMART** \\\n",
        "Nicolas García Pardo"
      ],
      "metadata": {
        "id": "hxMqErLW6wD5"
      }
    },
    {
      "cell_type": "markdown",
      "source": [
        "**Contexto** \\\n",
        "\n",
        "En TQ Confiable, la comunicación masiva de los productos de la división Farma Ética se realiza principalmente mediante la inversión en visitas médicas. Existe un área que puntualmente se llama \"Visita Médica\" y su labor es informar de manera efectiva a médicos sobre las novedades y ventajas de los productos de la empresa, con el objetivo de promover su prescripción y recomendación. Sin embargo, los informes de recetas médicas de los últimos meses han revelado que la participación de TQ en el mercado farmacéutico Colombiano ha disminuido en 0.2 puntos porcentuales, mientras que la competencia se ha mantenido estable o, en algunos casos, ha incrementado su participación."
      ],
      "metadata": {
        "id": "E0H04ueX68vg"
      }
    },
    {
      "cell_type": "markdown",
      "source": [
        "**Pregunta SMART**\n",
        "\n",
        "¿Qué productos han absorbido la participación de mercado perdida por TQ en los principales segmentos de mercado que representen el 80% del mercado farmacéutico total en Colombia, durante los últimos seis meses?"
      ],
      "metadata": {
        "id": "iuM373fp--t0"
      }
    },
    {
      "cell_type": "markdown",
      "source": [
        "**Justificación de por que esta pregunta SMART se puede solucionar mediante Ciencia de datos o IA**\n",
        "\n",
        "TQ cuenta con la información de prescripciones en el mercado a nivel de audiencia (especialidad de médicos) y producto, tanto de productos propios como de la competencia, por lo que para identificar qué productos han absorbido la participación de mercado perdida por TQ en los principales segmentos, se puede usar ciencia de datos e IA para analizar los cambios en la participación de mercado a lo largo del tiempo. Esto podría implicar modelar tendencias y patrones con análisis de series de tiempo, aplicar modelos de machine learning para identificar correlaciones entre la pérdida de TQ y el crecimiento de competidores, y segmentar el mercado para enfocarse en los segmentos más críticos. Estas técnicas permiten obtener insights precisos sobre el comportamiento del mercado y tomar decisiones informadas.\n",
        "\n",
        "En resumen, la combinación de análisis de datos exploratorio, segmentación de mercado, modelado de series de tiempo, y técnicas de machine learning permitirá\n",
        "responder a la pregunta SMART de manera precisa, y además, ofrecer una visión integral basada en datos sobre el comportamiento del mercado."
      ],
      "metadata": {
        "id": "d85CapmxFPjL"
      }
    }
  ]
}