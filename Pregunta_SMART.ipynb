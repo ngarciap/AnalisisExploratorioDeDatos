{
  "nbformat": 4,
  "nbformat_minor": 0,
  "metadata": {
    "colab": {
      "provenance": [],
      "authorship_tag": "ABX9TyN275XFau9Mi2BlHsYG+U6T",
      "include_colab_link": true
    },
    "kernelspec": {
      "name": "python3",
      "display_name": "Python 3"
    },
    "language_info": {
      "name": "python"
    }
  },
  "cells": [
    {
      "cell_type": "markdown",
      "metadata": {
        "id": "view-in-github",
        "colab_type": "text"
      },
      "source": [
        "<a href=\"https://colab.research.google.com/github/ngarciap/AnalisisExploratorioDeDatos/blob/main/Pregunta_SMART.ipynb\" target=\"_parent\"><img src=\"https://colab.research.google.com/assets/colab-badge.svg\" alt=\"Open In Colab\"/></a>"
      ]
    },
    {
      "cell_type": "code",
      "execution_count": null,
      "metadata": {
        "id": "Pi2dOsxl6uQk"
      },
      "outputs": [],
      "source": []
    },
    {
      "cell_type": "markdown",
      "source": [
        "**Análisis Exploratorio de datos - pregunta SMART** \\\n",
        "Nicolas García Pardo"
      ],
      "metadata": {
        "id": "hxMqErLW6wD5"
      }
    },
    {
      "cell_type": "markdown",
      "source": [
        "**Contexto** \\\n",
        "\n",
        "En TQ Confiable, la comunicación masiva de los productos de la división Farma Ética se realiza principalmente mediante la inversión en visitas médicas. Esta área se encarga de informar de manera efectiva a médicos y farmacéuticos sobre las novedades y ventajas de los productos de la empresa, con el objetivo de promover su prescripción y recomendación. Sin embargo, los informes de recetas médicas de los últimos meses han revelado que la participación de TQ en el mercado farmacéutico Colombiano ha disminuido en 0.2 puntos porcentuales, mientras que la competencia se ha mantenido estable o, en algunos casos, ha incrementado su participación."
      ],
      "metadata": {
        "id": "E0H04ueX68vg"
      }
    },
    {
      "cell_type": "markdown",
      "source": [
        "**Pregunta SMART**\n",
        "\n",
        "¿Qué productos han absorbido la participación de mercado perdida por TQ en los principales segmentos de prescripciones, que representan el 80% del mercado farmacéutico total en Colombia, durante los últimos seis meses?"
      ],
      "metadata": {
        "id": "iuM373fp--t0"
      }
    }
  ]
}