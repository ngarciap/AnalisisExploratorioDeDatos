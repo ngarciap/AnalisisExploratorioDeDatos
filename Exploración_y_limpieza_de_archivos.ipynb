{
  "cells": [
    {
      "cell_type": "markdown",
      "metadata": {
        "colab_type": "text",
        "id": "view-in-github"
      },
      "source": [
        "<a href=\"https://colab.research.google.com/github/ngarciap/AnalisisExploratorioDeDatos/blob/main/Exploraci%C3%B3n_y_limpieza_de_archivos.ipynb\" target=\"_parent\"><img src=\"https://colab.research.google.com/assets/colab-badge.svg\" alt=\"Open In Colab\"/></a>"
      ]
    },
    {
      "cell_type": "markdown",
      "metadata": {
        "id": "UYwttZA0kAvd"
      },
      "source": [
        "## **Cargue de archivos de Rxs del Mercado Farmacéutico Colombiano**\n",
        "***Preparación y Cargue de un Dataset / Asociado a mi pregunta SMART***"
      ]
    },
    {
      "cell_type": "code",
      "execution_count": 1,
      "metadata": {
        "colab": {
          "base_uri": "https://localhost:8080/"
        },
        "id": "0h3SCvXFj7x8",
        "outputId": "7172617b-b19b-43e7-b73d-a467a93bd311"
      },
      "outputs": [],
      "source": [
        "# Importar librerias\n",
        "import pandas as pd\n",
        "import numpy as np\n",
        "import os\n",
        "\n",
        "# Matplotlib y  seaborn para gráficos\n",
        "import matplotlib.pyplot as plt\n",
        "import matplotlib\n",
        "%matplotlib inline\n",
        "\n",
        "matplotlib.rcParams['font.size'] = 8\n",
        "matplotlib.rcParams['figure.dpi'] = 200\n",
        "\n",
        "#from google.colab import drive\n",
        "\n",
        "# Cargar Dataframes desde Google Drive\n",
        "drive.mount('/content/drive', force_remount=True)\n",
        "df_producto = pd.read_csv('/content/drive/MyDrive/Colab Notebooks/Analisis Exploratorio de Datos/Bases/Market COL Jun/CUP_PRODUTO.TXT', sep='\t', encoding='latin1', dtype=str)\n",
        "df_laboratorio = pd.read_csv('/content/drive/MyDrive/Colab Notebooks/Analisis Exploratorio de Datos/Bases/Market COL Jun/CUP_LABORATORIO.TXT', sep='\t', encoding='latin1', dtype=str)\n",
        "df_prescripciones = pd.read_csv('/content/drive/MyDrive/Colab Notebooks/Analisis Exploratorio de Datos/Bases/Market COL Jun/CUP_FATO.TXT', sep='\t', encoding='latin1', dtype=str)\n",
        "df_category = pd.read_excel('/content/drive/MyDrive/Colab Notebooks/Analisis Exploratorio de Datos/Bases/Market COL Jun/Category.xlsx', engine='openpyxl', dtype=str)\n",
        "\"\"\"\n",
        "# Cargar Dataframes desde máquina local\n",
        "df_producto = pd.read_csv(os.path.join(os.getcwd() + \"\\Bases\", \"CUP_PRODUTO.TXT\"), sep='\t', encoding='latin1', dtype=str)\n",
        "df_laboratorio = pd.read_csv(os.path.join(os.getcwd() + \"\\Bases\", \"CUP_LABORATORIO.TXT\"), sep='\t', encoding='latin1', dtype=str)\n",
        "df_prescripciones = pd.read_csv(os.path.join(os.getcwd() + \"\\Bases\", \"CUP_FATO.TXT\"), sep='\t', encoding='latin1', dtype=str)\n",
        "df_category = pd.read_excel(os.path.join(os.getcwd() + \"\\Bases\", \"Category.xlsx\"), engine='openpyxl', dtype=str) \"\"\""
      ]
    },
    {
      "cell_type": "markdown",
      "metadata": {
        "id": "Hv8XuTtsiRXu"
      },
      "source": [
        "**Se procede a Cruzar la Tabla principal de Rx con Productos y Laboratorios para poder obtener un Dataframe que me inidque prescripciones por laboratorio de todo el Dataset, adicional se filtran y se alista el dataframe para estudiarlo mejor**"
      ]
    },
    {
      "cell_type": "code",
      "execution_count": 2,
      "metadata": {
        "id": "EjY3CCx1UJ6i"
      },
      "outputs": [],
      "source": [
        "# Alistamiento de tabla de productos para traer el Laboratorio y cruzar con los articulos claisificados corporativamente\n",
        "df_producto_completo = pd.merge(df_producto, df_laboratorio, how='inner', left_on='PRO_LAB_ID', right_on='LAB_ID')\n",
        "df_producto_completo = pd.merge(df_producto_completo, df_category, how = 'inner', on='PRO_ID')\n",
        "\n",
        "col_descriptivas = df_prescripciones.columns[:df_prescripciones.columns.get_loc('ESP_ID') + 1].tolist()\n",
        "col_meses = df_prescripciones.columns[df_prescripciones.columns.get_loc('ESP_ID') + 1:].tolist()\n",
        "df_prescripciones[col_meses] = df_prescripciones[col_meses].astype(int)\n",
        "\n",
        "df_prescripciones = df_prescripciones.groupby(col_descriptivas)[col_meses].sum().reset_index()\n",
        "df_prescripciones = pd.melt(df_prescripciones, id_vars=col_descriptivas, var_name='PERIODO', value_name='VALOR')\n",
        "df_prescripciones = df_prescripciones[df_prescripciones['VALOR'] != 0]\n",
        "\n",
        "# Cruce de Prescrupciones con Producto y filtrado de Columnas de interés\n",
        "df_prescripciones = pd.merge(df_prescripciones, df_producto_completo, how='inner', on='PRO_ID')\n",
        "df_prescripciones_agrupado = df_prescripciones.groupby(['LAB_DESC', 'PERIODO'])['VALOR'].sum().reset_index()\n",
        "\n",
        "# Se filtra el último mes de la base para analizarlo\n",
        "df_prescripciones_agrupado = df_prescripciones_agrupado[df_prescripciones_agrupado['PERIODO'] == 'MES59']"
      ]
    },
    {
      "cell_type": "markdown",
      "metadata": {
        "id": "v_C89V_cihBf"
      },
      "source": [
        "**Se realiza análisis sobre el Dataframe que contiene las prescripciones por laboratorio**"
      ]
    },
    {
      "cell_type": "code",
      "execution_count": 6,
      "metadata": {},
      "outputs": [
        {
          "data": {
            "text/plain": [
              "(420, 3)"
            ]
          },
          "execution_count": 6,
          "metadata": {},
          "output_type": "execute_result"
        }
      ],
      "source": [
        "df_prescripciones_agrupado.shape"
      ]
    },
    {
      "cell_type": "markdown",
      "metadata": {},
      "source": [
        "El dataframe indica que en un periodo de 5 años, se tienen 420 laboratorios de los cuales mínimo 1 prescripción en ese periodo de tiempo"
      ]
    },
    {
      "cell_type": "code",
      "execution_count": 7,
      "metadata": {
        "colab": {
          "base_uri": "https://localhost:8080/",
          "height": 300
        },
        "id": "U2i1KdgVi3u7",
        "outputId": "90afd5a0-b25a-40d9-8957-2bfce0ec7b59"
      },
      "outputs": [
        {
          "data": {
            "text/html": [
              "<div>\n",
              "<style scoped>\n",
              "    .dataframe tbody tr th:only-of-type {\n",
              "        vertical-align: middle;\n",
              "    }\n",
              "\n",
              "    .dataframe tbody tr th {\n",
              "        vertical-align: top;\n",
              "    }\n",
              "\n",
              "    .dataframe thead th {\n",
              "        text-align: right;\n",
              "    }\n",
              "</style>\n",
              "<table border=\"1\" class=\"dataframe\">\n",
              "  <thead>\n",
              "    <tr style=\"text-align: right;\">\n",
              "      <th></th>\n",
              "      <th>VALOR</th>\n",
              "    </tr>\n",
              "  </thead>\n",
              "  <tbody>\n",
              "    <tr>\n",
              "      <th>count</th>\n",
              "      <td>420.000000</td>\n",
              "    </tr>\n",
              "    <tr>\n",
              "      <th>mean</th>\n",
              "      <td>1398.983333</td>\n",
              "    </tr>\n",
              "    <tr>\n",
              "      <th>std</th>\n",
              "      <td>6593.062438</td>\n",
              "    </tr>\n",
              "    <tr>\n",
              "      <th>min</th>\n",
              "      <td>1.000000</td>\n",
              "    </tr>\n",
              "    <tr>\n",
              "      <th>25%</th>\n",
              "      <td>7.000000</td>\n",
              "    </tr>\n",
              "    <tr>\n",
              "      <th>50%</th>\n",
              "      <td>40.500000</td>\n",
              "    </tr>\n",
              "    <tr>\n",
              "      <th>75%</th>\n",
              "      <td>427.250000</td>\n",
              "    </tr>\n",
              "    <tr>\n",
              "      <th>max</th>\n",
              "      <td>112820.000000</td>\n",
              "    </tr>\n",
              "  </tbody>\n",
              "</table>\n",
              "</div>"
            ],
            "text/plain": [
              "               VALOR\n",
              "count     420.000000\n",
              "mean     1398.983333\n",
              "std      6593.062438\n",
              "min         1.000000\n",
              "25%         7.000000\n",
              "50%        40.500000\n",
              "75%       427.250000\n",
              "max    112820.000000"
            ]
          },
          "execution_count": 7,
          "metadata": {},
          "output_type": "execute_result"
        }
      ],
      "source": [
        "df_prescripciones_agrupado.describe()"
      ]
    },
    {
      "cell_type": "markdown",
      "metadata": {
        "id": "9s4_zuwhYdwe"
      },
      "source": [
        "El promedio de las Prescripciones por laboratorio en el último periodo es de 1399 prescripciones\n",
        "Con un mínimo de 1 prescripción y un máximo de 112.820."
      ]
    },
    {
      "cell_type": "code",
      "execution_count": 8,
      "metadata": {},
      "outputs": [
        {
          "data": {
            "text/plain": [
              "LAB_DESC    object\n",
              "PERIODO     object\n",
              "VALOR        int64\n",
              "dtype: object"
            ]
          },
          "execution_count": 8,
          "metadata": {},
          "output_type": "execute_result"
        }
      ],
      "source": [
        "df_prescripciones_agrupado.dtypes"
      ]
    },
    {
      "cell_type": "markdown",
      "metadata": {},
      "source": [
        "La columna a analizar es el valor de Rx el cual está especificado por Laboratorio y por Periodo, aunque en este caso se filtró solo el último periodo"
      ]
    },
    {
      "cell_type": "code",
      "execution_count": 9,
      "metadata": {
        "colab": {
          "base_uri": "https://localhost:8080/",
          "height": 489
        },
        "id": "otftdDVdi-iG",
        "outputId": "c3c0e760-bb52-429e-b750-24f23cd31d3e"
      },
      "outputs": [
        {
          "name": "stdout",
          "output_type": "stream",
          "text": [
            "LAB_DESC\n",
            "LAB NO INDICADO      19.201018\n",
            "TECNOQUIMICAS         6.673554\n",
            "MCKESSON              5.229308\n",
            "NOVAMED               4.577644\n",
            "PROCAPS               3.952530\n",
            "                       ...    \n",
            "ERON                  0.000170\n",
            "BIOTEFAR              0.000170\n",
            "BLAU FARMACEUTICA     0.000170\n",
            "ROCIPHAR              0.000170\n",
            "SERES                 0.000170\n",
            "Name: VALOR, Length: 420, dtype: float64\n"
          ]
        }
      ],
      "source": [
        "print(df_prescripciones_agrupado.groupby('LAB_DESC')['VALOR'].sum().sort_values(ascending=False) / df_prescripciones_agrupado['VALOR'].sum() * 100)"
      ]
    },
    {
      "cell_type": "markdown",
      "metadata": {},
      "source": [
        "Se observa que el 19,2% de la muestra no tiene un laboratorio indicado, y seguido va el laboratorio Tecnoquimicas y MK los cuales pertenecen al mismo grupo"
      ]
    },
    {
      "cell_type": "code",
      "execution_count": 19,
      "metadata": {},
      "outputs": [
        {
          "data": {
            "image/png": "[encoded data removed]",
            "text/plain": [
              "<Figure size 400x400 with 1 Axes>"
            ]
          },
          "metadata": {},
          "output_type": "display_data"
        }
      ],
      "source": [
        "# Creación de Histograma\n",
        "\n",
        "plt.hist(df_prescripciones_agrupado['VALOR'], bins=30, color='blue', edgecolor='black')\n",
        "plt.title('Histograma de Prescripciones por Laboratorio')\n",
        "plt.xlabel('Cantidad de Prescripciones')\n",
        "plt.ylabel('Número de Laboratorios')\n",
        "plt.show()"
      ]
    },
    {
      "cell_type": "markdown",
      "metadata": {},
      "source": [
        "Del Histograma se observa que existe una alta variación en los datos y su distribución es atípica, ya que son muy pocos los laboratorios con unas Rx de unas magnitudes tan altas de Rx, y la gran matoria se concentra en valores cercanos a cero."
      ]
    }
  ],
  "metadata": {
    "colab": {
      "authorship_tag": "ABX9TyOQQwuUjoru/ckIN5yh28UZ",
      "include_colab_link": true,
      "provenance": []
    },
    "kernelspec": {
      "display_name": "Python 3",
      "name": "python3"
    },
    "language_info": {
      "codemirror_mode": {
        "name": "ipython",
        "version": 3
      },
      "file_extension": ".py",
      "mimetype": "text/x-python",
      "name": "python",
      "nbconvert_exporter": "python",
      "pygments_lexer": "ipython3",
      "version": "3.9.5"
    }
  },
  "nbformat": 4,
  "nbformat_minor": 0
}
