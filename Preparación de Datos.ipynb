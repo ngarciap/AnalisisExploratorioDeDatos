{
  "cells": [
    {
      "cell_type": "markdown",
      "metadata": {},
      "source": [
        "## <a id='toc1_1_'></a>[**Preparación de datos con Dataset de Prescripciones del mercado farmacéutico Colombiano**](#toc0_)"
      ]
    },
    {
      "cell_type": "markdown",
      "metadata": {},
      "source": [
        "**Tabla de Contenido**<a id='toc0_'></a>    \n",
        "- [**Preparación de datos con Dataset de Prescripciones del mercado farmacéutico Colombiano**](#toc1_1_)    \n",
        "    - [**Contexto y Pregunta SMART**](#toc1_1_1_)    \n",
        "      - [**Contexto**](#toc1_1_1_1_)    \n",
        "      - [**Pregunta SMART**](#toc1_1_1_2_)    \n",
        "      - [**Justificación de por que esta pregunta SMART se puede solucionar mediante Ciencia de datos o IA**](#toc1_1_1_3_)    \n",
        "    - [**Análisis Exploratorio**](#toc1_1_2_)    \n",
        "      - [**Cargue de los datos**](#toc1_1_2_1_)    \n",
        "        - [**Alistamiento Dimensión de Producto**](#toc1_1_2_1_1_)    \n",
        "        - [**Alistamiento de Dataframe Completo**](#toc1_1_2_1_2_)    \n",
        "      - [**Análisis de la estructura**](#toc1_1_2_2_)    \n",
        "      - [**Análisis de las variables Categóricas**](#toc1_1_2_3_)    \n",
        "      - [**Análisis de las variables Enteras**](#toc1_1_2_4_)    \n",
        "\n",
        "<!-- vscode-jupyter-toc-config\n",
        "\tnumbering=false\n",
        "\tanchor=true\n",
        "\tflat=false\n",
        "\tminLevel=1\n",
        "\tmaxLevel=6\n",
        "\t/vscode-jupyter-toc-config -->\n",
        "<!-- THIS CELL WILL BE REPLACED ON TOC UPDATE. DO NOT WRITE YOUR TEXT IN THIS CELL -->"
      ]
    },
    {
      "cell_type": "markdown",
      "metadata": {},
      "source": [
        "### <a id='toc1_1_1_'></a>[**Contexto y Pregunta SMART**](#toc0_)"
      ]
    },
    {
      "cell_type": "markdown",
      "metadata": {},
      "source": [
        "#### <a id='toc1_1_1_1_'></a>[**Contexto**](#toc0_)"
      ]
    },
    {
      "cell_type": "markdown",
      "metadata": {},
      "source": [
        "En TQ Confiable, la comunicación masiva de los productos de la división Farma Ética se realiza principalmente mediante la inversión en visitas médicas. Existe un área que puntualmente se llama \"Visita Médica\" y su labor es informar de manera efectiva a médicos sobre las novedades y ventajas de los productos de la empresa, con el objetivo de promover su prescripción y recomendación. Sin embargo, los informes de recetas médicas de los últimos meses han revelado que la participación de TQ en el mercado farmacéutico Colombiano ha disminuido en 0.2 puntos porcentuales, mientras que la competencia se ha mantenido estable o, en algunos casos, ha incrementado su participación."
      ]
    },
    {
      "cell_type": "markdown",
      "metadata": {},
      "source": [
        "#### <a id='toc1_1_1_2_'></a>[**Pregunta SMART**](#toc0_)"
      ]
    },
    {
      "cell_type": "markdown",
      "metadata": {},
      "source": [
        "¿Qué productos han absorbido la participación de mercado perdida por TQ en los principales segmentos de mercado que representen el 80% del mercado farmacéutico total en Colombia, durante los últimos seis meses?"
      ]
    },
    {
      "cell_type": "markdown",
      "metadata": {},
      "source": [
        "#### <a id='toc1_1_1_3_'></a>[**Justificación de por que esta pregunta SMART se puede solucionar mediante Ciencia de datos o IA**](#toc0_)"
      ]
    },
    {
      "cell_type": "markdown",
      "metadata": {},
      "source": [
        "TQ cuenta con la información de prescripciones en el mercado a nivel de audiencia (especialidad de médicos) y producto, tanto de productos propios como de la competencia, por lo que para identificar qué productos han absorbido la participación de mercado perdida por TQ en los principales segmentos, se puede usar ciencia de datos e IA para analizar los cambios en la participación de mercado a lo largo del tiempo. Esto podría implicar modelar tendencias y patrones con análisis de series de tiempo, aplicar modelos de machine learning para identificar correlaciones entre la pérdida de TQ y el crecimiento de competidores, y segmentar el mercado para enfocarse en los segmentos más críticos. Estas técnicas permiten obtener insights precisos sobre el comportamiento del mercado y tomar decisiones informadas.\n",
        "\n",
        "En resumen, la combinación de análisis de datos exploratorio, segmentación de mercado, modelado de series de tiempo, y técnicas de machine learning permitirá\n",
        "responder a la pregunta SMART de manera precisa, y además, ofrecer una visión integral basada en datos sobre el comportamiento del mercado."
      ]
    },
    {
      "cell_type": "markdown",
      "metadata": {},
      "source": [
        "### <a id='toc1_1_2_'></a>[**Análisis Exploratorio**](#toc0_)"
      ]
    },
    {
      "cell_type": "markdown",
      "metadata": {},
      "source": [
        "#### <a id='toc1_1_2_1_'></a>[**Cargue de los datos**](#toc0_)"
      ]
    },
    {
      "cell_type": "code",
      "execution_count": 1,
      "metadata": {},
      "outputs": [],
      "source": [
        "# Importar librerias\n",
        "import pandas as pd\n",
        "import numpy as np\n",
        "import os\n",
        "\n",
        "# Matplotlib y  seaborn para gráficos\n",
        "import seaborn as sns\n",
        "import matplotlib.pyplot as plt\n",
        "import matplotlib\n",
        "%matplotlib inline\n",
        "\n",
        "matplotlib.rcParams['font.size'] = 8\n",
        "matplotlib.rcParams['figure.dpi'] = 200\n",
        "\n",
        "#from google.colab import drive\n",
        "\n",
        "\"\"\" Cargar Dataframes desde Google Drive\n",
        "drive.mount('/content/drive', force_remount=True)\n",
        "df_category = pd.read_excel('/content/drive/MyDrive/Colab Notebooks/Analisis Exploratorio de Datos/Bases/Market COL Jun/Category.xlsx', engine='openpyxl', dtype=str)\n",
        "df_producto = pd.read_csv('/content/drive/MyDrive/Colab Notebooks/Analisis Exploratorio de Datos/Bases/Market COL Jun/CUP_PRODUTO.TXT', sep='\t', encoding='latin1', dtype=str)\n",
        "df_molecula = pd.read_csv('/content/drive/MyDrive/Colab Notebooks/Analisis Exploratorio de Datos/Bases/Market COL Jun/CUP_MOLECULA.TXT', sep='\t', encoding='latin1', dtype=str)\n",
        "df_laboratorio = pd.read_csv('/content/drive/MyDrive/Colab Notebooks/Analisis Exploratorio de Datos/Bases/Market COL Jun/CUP_LABORATORIO.TXT', sep='\t', encoding='latin1', dtype=str)\n",
        "df_concentracion = pd.read_csv('/content/drive/MyDrive/Colab Notebooks/Analisis Exploratorio de Datos/Bases/Market COL Jun/CUP_CONCENTRACAO.TXT', sep='\t', encoding='latin1', dtype=str)\n",
        "df_especialidades = pd.read_csv('/content/drive/MyDrive/Colab Notebooks/Analisis Exploratorio de Datos/Bases/Market COL Jun/CUP_ESPECIALIDADE.TXT', sep='\t', encoding='latin1', dtype=str)\n",
        "df_prescripciones = pd.read_csv('/content/drive/MyDrive/Colab Notebooks/Analisis Exploratorio de Datos/Bases/Market COL Jun/CUP_FATO.TXT', sep='\t', encoding='latin1', dtype=str)\n",
        "\n",
        "\"\"\"\n",
        "# Cargar Dataframes desde máquina local\n",
        "df_category = pd.read_excel(os.path.join(os.getcwd() + \"\\Bases\", \"Category.xlsx\"), engine='openpyxl', dtype=str)\n",
        "df_clase = pd.read_csv(os.path.join(os.getcwd() + \"\\Bases\", \"CUP_CLASSE.TXT\"), sep='\t', encoding='latin1', dtype=str)\n",
        "df_producto = pd.read_csv(os.path.join(os.getcwd() + \"\\Bases\", \"CUP_PRODUTO.TXT\"), sep='\t', encoding='latin1', dtype=str)\n",
        "df_molecula = pd.read_csv(os.path.join(os.getcwd() + \"\\Bases\", \"CUP_MOLECULA.TXT\"), sep='\t', encoding='latin1', dtype=str)\n",
        "df_laboratorio = pd.read_csv(os.path.join(os.getcwd() + \"\\Bases\", \"CUP_LABORATORIO.TXT\"), sep='\t', encoding='latin1', dtype=str)\n",
        "df_concentracion = pd.read_csv(os.path.join(os.getcwd() + \"\\Bases\", \"CUP_CONCENTRACAO.TXT\"), sep='\t', encoding='latin1', dtype=str)\n",
        "df_especialidades = pd.read_csv(os.path.join(os.getcwd() + \"\\Bases\", \"CUP_ESPECIALIDADE.TXT\"), sep='\t', encoding='latin1', dtype=str)\n",
        "df_prescripciones = pd.read_csv(os.path.join(os.getcwd() + \"\\Bases\", \"CUP_FATO.TXT\"), sep='\t', encoding='latin1', dtype=str)\n"
      ]
    },
    {
      "cell_type": "markdown",
      "metadata": {},
      "source": [
        "##### <a id='toc1_1_2_1_1_'></a>[**Alistamiento Dimensión de Producto**](#toc0_)"
      ]
    },
    {
      "cell_type": "markdown",
      "metadata": {
        "id": "UhNwdDEOKmvu"
      },
      "source": [
        "Se realiza un alistamiento y transformación de los archivos cargados asociados a la **dimensión de producto** para poder analizar múltiples variables en el periodo de tiempo indicado en la pregunta SMART, particularmente se cruzan los diferentes archivos con todos los atributos para dejarlos en un único dataframe"
      ]
    },
    {
      "cell_type": "code",
      "execution_count": 2,
      "metadata": {},
      "outputs": [],
      "source": [
        "cols_producto = ['PRO_ID', 'NOMB_PRODUCT', 'MARCA_ID', 'NOMB_MARCA', 'CON_ID', 'CON_DESC', 'MOL_ID', 'MOL_DESC', 'CT4_ID', 'CT4_DESC', 'LAB_ID', 'LAB_DESC']\n",
        "df_producto['CTIV_ID'] = df_producto['CTIV_ID'].str.pad(width=5, side='right', fillchar='0')\n",
        "df_producto_completo = pd.merge(df_producto, df_clase, how='inner', left_on='CTIV_ID', right_on='CT4_ID')\n",
        "df_producto_completo = pd.merge(df_producto_completo, df_laboratorio, how='inner', left_on='PRO_LAB_ID', right_on='LAB_ID')\n",
        "df_producto_completo = pd.merge(df_producto_completo, df_molecula, how='inner', on='MOL_ID')\n",
        "df_producto_completo = pd.merge(df_producto_completo, df_concentracion, how='inner', left_on='CONCEN_ID', right_on='CON_ID')\n",
        "df_producto_completo = df_producto_completo[cols_producto]\n",
        "df_producto_completo = pd.merge(df_producto_completo, df_category, how = 'inner', on='PRO_ID')\n",
        "del cols_producto, df_producto, df_clase, df_laboratorio, df_molecula, df_concentracion, df_category"
      ]
    },
    {
      "cell_type": "markdown",
      "metadata": {},
      "source": [
        "##### <a id='toc1_1_2_1_2_'></a>[**Alistamiento de Dataframe Completo**](#toc0_)"
      ]
    },
    {
      "cell_type": "markdown",
      "metadata": {},
      "source": [
        "Para un mejor análisis, se procede a cruzar el archivo de Rx con el dataframe de producto, y se filtran los meses de interés y los productos que conforman el mercado farmacéutico (Aquellos que en su categoría farma son Base ética o Base OTC)"
      ]
    },
    {
      "cell_type": "code",
      "execution_count": 3,
      "metadata": {
        "id": "eIqvH2lqKmvu"
      },
      "outputs": [],
      "source": [
        "# Alistamiento de Dataframe de Rx's\n",
        "col_descriptivas = df_prescripciones.columns[:df_prescripciones.columns.get_loc('ESP_ID') + 1].tolist()\n",
        "col_meses = df_prescripciones.columns[df_prescripciones.columns.get_loc('ESP_ID') + 1:].tolist()\n",
        "df_prescripciones[col_meses] = df_prescripciones[col_meses].astype(int)\n",
        "\n",
        "df_prescripciones = df_prescripciones.groupby(col_descriptivas)[col_meses].sum().reset_index()\n",
        "df_prescripciones = pd.melt(df_prescripciones, id_vars=col_descriptivas, var_name='PERIODO', value_name='VALOR')\n",
        "df_prescripciones = df_prescripciones[df_prescripciones['VALOR'] != 0]\n",
        "\n",
        "meses = {\n",
        "  'MES59' : '202406',\n",
        "  'MES58' : '202405',\n",
        "  'MES57' : '202404',\n",
        "  'MES56' : '202403',\n",
        "  'MES55' : '202402',\n",
        "  'MES54' : '202401'}\n",
        "\n",
        "# Cruce de Prescripciones con Producto y filtrado de periodos de tiempo indicado en la pregunta SMART\n",
        "df_prescripciones = pd.merge(df_prescripciones, df_producto_completo, how='inner', on='PRO_ID')\n",
        "df_prescripciones = pd.merge(df_prescripciones, df_especialidades, how='inner', on='ESP_ID')\n",
        "df_prescripciones = df_prescripciones[df_prescripciones['PERIODO'].isin(['MES59', 'MES58', 'MES57', 'MES56', 'MES55', 'MES54'])]\n",
        "df_prescripciones = df_prescripciones[df_prescripciones['CATEGORIA_FARMA'].isin(['Base Etica', 'Base OTC'])]\n",
        "df_prescripciones['PERIODO'] = df_prescripciones['PERIODO'].replace(meses)\n",
        "del meses, df_especialidades, col_descriptivas, col_meses, df_producto_completo"
      ]
    },
    {
      "cell_type": "markdown",
      "metadata": {
        "id": "SVgw5CpHKmvv"
      },
      "source": [
        "*Con el fin de analizar mejor la información, se agrupa el Dataframe por Laboratorio y se extraen las características mas relevantes*"
      ]
    },
    {
      "cell_type": "code",
      "execution_count": 4,
      "metadata": {},
      "outputs": [],
      "source": [
        "# Se agrupa la información para tener un Dataframe multivariable del cual se pueda realizar un análisis estadístico\n",
        "df_prescripciones = (\n",
        "    df_prescripciones.groupby(['PERIODO','ESP_DESC', 'LAB_DESC', 'MOL_DESC', 'ETICO_POPULAR','MARCA_GENERICO'])\n",
        "    .agg(VALOR=('VALOR', 'sum'),\n",
        "         NO_PRODUCTOS=('PRO_ID', 'nunique'),\n",
        "         NO_CONCENTRACIONES=('CON_ID', 'nunique'),\n",
        "         NO_CLASES_T=('CT4_ID', 'nunique'))\n",
        "    .sort_values(by='VALOR', ascending=False)\n",
        "    .reset_index()\n",
        "    .rename(columns={'PERIODO': 'ID_MES',\n",
        "                     'ESP_DESC': 'ESPECIALIDAD',\n",
        "                     'LAB_DESC': 'LABORATORIO',\n",
        "                     'MOL_DESC': 'MOLECULA',\n",
        "                     'ETICO_POPULAR': 'ETICO_OTC'})\n",
        ")"
      ]
    },
    {
      "cell_type": "markdown",
      "metadata": {},
      "source": [
        "#### <a id='toc1_1_2_2_'></a>[**Análisis de la estructura**](#toc0_)"
      ]
    },
    {
      "cell_type": "code",
      "execution_count": 7,
      "metadata": {},
      "outputs": [
        {
          "data": {
            "text/plain": [
              "(219605, 10)"
            ]
          },
          "execution_count": 7,
          "metadata": {},
          "output_type": "execute_result"
        }
      ],
      "source": [
        "df_prescripciones.shape"
      ]
    },
    {
      "cell_type": "markdown",
      "metadata": {},
      "source": [
        "Los datos cuentan con 219605 registros y 10 columnas"
      ]
    },
    {
      "cell_type": "code",
      "execution_count": 9,
      "metadata": {},
      "outputs": [
        {
          "data": {
            "text/plain": [
              "ID_MES                0\n",
              "ESPECIALIDAD          0\n",
              "LABORATORIO           0\n",
              "MOLECULA              0\n",
              "ETICO_OTC             0\n",
              "MARCA_GENERICO        0\n",
              "VALOR                 0\n",
              "NO_PRODUCTOS          0\n",
              "NO_CONCENTRACIONES    0\n",
              "NO_CLASES_T           0\n",
              "dtype: int64"
            ]
          },
          "execution_count": 9,
          "metadata": {},
          "output_type": "execute_result"
        }
      ],
      "source": [
        "df_prescripciones.isna().sum()"
      ]
    },
    {
      "cell_type": "markdown",
      "metadata": {},
      "source": [
        "Observamos que no hay registros vaciós, esto se debe a que en el proceso de creación de este Dataframe se mitigaron estos posibles valores en 0."
      ]
    },
    {
      "cell_type": "code",
      "execution_count": 10,
      "metadata": {},
      "outputs": [
        {
          "data": {
            "text/plain": [
              "['ID_MES',\n",
              " 'ESPECIALIDAD',\n",
              " 'LABORATORIO',\n",
              " 'MOLECULA',\n",
              " 'ETICO_OTC',\n",
              " 'MARCA_GENERICO',\n",
              " 'VALOR',\n",
              " 'NO_PRODUCTOS',\n",
              " 'NO_CONCENTRACIONES',\n",
              " 'NO_CLASES_T']"
            ]
          },
          "execution_count": 10,
          "metadata": {},
          "output_type": "execute_result"
        }
      ],
      "source": [
        "list(df_prescripciones.columns)"
      ]
    },
    {
      "cell_type": "markdown",
      "metadata": {},
      "source": [
        "Las columnas fueron seleccionadas y la información está filtrada por las prescripciones que componen el mercado farmacéutico, con estas columnas se va a determinar que conjunto de productos le está quitando participación a TQ."
      ]
    },
    {
      "cell_type": "code",
      "execution_count": 11,
      "metadata": {},
      "outputs": [
        {
          "data": {
            "text/html": [
              "<div>\n",
              "<style scoped>\n",
              "    .dataframe tbody tr th:only-of-type {\n",
              "        vertical-align: middle;\n",
              "    }\n",
              "\n",
              "    .dataframe tbody tr th {\n",
              "        vertical-align: top;\n",
              "    }\n",
              "\n",
              "    .dataframe thead th {\n",
              "        text-align: right;\n",
              "    }\n",
              "</style>\n",
              "<table border=\"1\" class=\"dataframe\">\n",
              "  <thead>\n",
              "    <tr style=\"text-align: right;\">\n",
              "      <th></th>\n",
              "      <th>ID_MES</th>\n",
              "      <th>ESPECIALIDAD</th>\n",
              "      <th>LABORATORIO</th>\n",
              "      <th>MOLECULA</th>\n",
              "      <th>ETICO_OTC</th>\n",
              "      <th>MARCA_GENERICO</th>\n",
              "      <th>VALOR</th>\n",
              "      <th>NO_PRODUCTOS</th>\n",
              "      <th>NO_CONCENTRACIONES</th>\n",
              "      <th>NO_CLASES_T</th>\n",
              "    </tr>\n",
              "  </thead>\n",
              "  <tbody>\n",
              "    <tr>\n",
              "      <th>0</th>\n",
              "      <td>202406</td>\n",
              "      <td>MEDI.GENERAL</td>\n",
              "      <td>HALEON</td>\n",
              "      <td>ACETAMINOFENO = PARACETAMOL</td>\n",
              "      <td>Popular</td>\n",
              "      <td>Marca</td>\n",
              "      <td>4374</td>\n",
              "      <td>12</td>\n",
              "      <td>7</td>\n",
              "      <td>1</td>\n",
              "    </tr>\n",
              "    <tr>\n",
              "      <th>1</th>\n",
              "      <td>202405</td>\n",
              "      <td>MEDI.GENERAL</td>\n",
              "      <td>HALEON</td>\n",
              "      <td>ACETAMINOFENO = PARACETAMOL</td>\n",
              "      <td>Popular</td>\n",
              "      <td>Marca</td>\n",
              "      <td>3975</td>\n",
              "      <td>11</td>\n",
              "      <td>7</td>\n",
              "      <td>1</td>\n",
              "    </tr>\n",
              "    <tr>\n",
              "      <th>2</th>\n",
              "      <td>202402</td>\n",
              "      <td>MEDI.GENERAL</td>\n",
              "      <td>HALEON</td>\n",
              "      <td>ACETAMINOFENO = PARACETAMOL</td>\n",
              "      <td>Popular</td>\n",
              "      <td>Marca</td>\n",
              "      <td>3825</td>\n",
              "      <td>12</td>\n",
              "      <td>7</td>\n",
              "      <td>1</td>\n",
              "    </tr>\n",
              "    <tr>\n",
              "      <th>3</th>\n",
              "      <td>202401</td>\n",
              "      <td>MEDI.GENERAL</td>\n",
              "      <td>HALEON</td>\n",
              "      <td>ACETAMINOFENO = PARACETAMOL</td>\n",
              "      <td>Popular</td>\n",
              "      <td>Marca</td>\n",
              "      <td>3811</td>\n",
              "      <td>12</td>\n",
              "      <td>7</td>\n",
              "      <td>1</td>\n",
              "    </tr>\n",
              "    <tr>\n",
              "      <th>4</th>\n",
              "      <td>202403</td>\n",
              "      <td>MEDI.GENERAL</td>\n",
              "      <td>HALEON</td>\n",
              "      <td>ACETAMINOFENO = PARACETAMOL</td>\n",
              "      <td>Popular</td>\n",
              "      <td>Marca</td>\n",
              "      <td>3799</td>\n",
              "      <td>12</td>\n",
              "      <td>7</td>\n",
              "      <td>1</td>\n",
              "    </tr>\n",
              "  </tbody>\n",
              "</table>\n",
              "</div>"
            ],
            "text/plain": [
              "   ID_MES  ESPECIALIDAD LABORATORIO                     MOLECULA ETICO_OTC  \\\n",
              "0  202406  MEDI.GENERAL      HALEON  ACETAMINOFENO = PARACETAMOL   Popular   \n",
              "1  202405  MEDI.GENERAL      HALEON  ACETAMINOFENO = PARACETAMOL   Popular   \n",
              "2  202402  MEDI.GENERAL      HALEON  ACETAMINOFENO = PARACETAMOL   Popular   \n",
              "3  202401  MEDI.GENERAL      HALEON  ACETAMINOFENO = PARACETAMOL   Popular   \n",
              "4  202403  MEDI.GENERAL      HALEON  ACETAMINOFENO = PARACETAMOL   Popular   \n",
              "\n",
              "  MARCA_GENERICO  VALOR  NO_PRODUCTOS  NO_CONCENTRACIONES  NO_CLASES_T  \n",
              "0          Marca   4374            12                   7            1  \n",
              "1          Marca   3975            11                   7            1  \n",
              "2          Marca   3825            12                   7            1  \n",
              "3          Marca   3811            12                   7            1  \n",
              "4          Marca   3799            12                   7            1  "
            ]
          },
          "execution_count": 11,
          "metadata": {},
          "output_type": "execute_result"
        }
      ],
      "source": [
        "df_prescripciones.head()"
      ]
    },
    {
      "cell_type": "markdown",
      "metadata": {},
      "source": [
        "Se ve una muestra de la información que vamos a analizar, de la cual tenemos un campo de tiempo, 5 campos categóricos y 4 variables numéricas"
      ]
    },
    {
      "cell_type": "markdown",
      "metadata": {},
      "source": [
        "#### <a id='toc1_1_2_3_'></a>[**Análisis de las variables Categóricas**](#toc0_)"
      ]
    },
    {
      "cell_type": "markdown",
      "metadata": {},
      "source": [
        "Se procede a Analizar los campos de Clasificación de producto"
      ]
    },
    {
      "cell_type": "code",
      "execution_count": 15,
      "metadata": {},
      "outputs": [
        {
          "name": "stdout",
          "output_type": "stream",
          "text": [
            "ETICO_OTC\n",
            "Etico      71.99%\n",
            "Popular    19.61%\n",
            "0           8.35%\n",
            "ETICO       0.05%\n",
            "Name: proportion, dtype: object\n",
            "MARCA_GENERICO\n",
            "Marca       68.9%\n",
            "Generico    31.1%\n",
            "marca       0.01%\n",
            "Name: proportion, dtype: object\n"
          ]
        }
      ],
      "source": [
        "print((df_prescripciones.value_counts('ETICO_OTC',normalize=True)*100).round(2).astype(str)+'%')\n",
        "print((df_prescripciones.value_counts('MARCA_GENERICO',normalize=True)*100).round(2).astype(str)+'%')"
      ]
    },
    {
      "cell_type": "markdown",
      "metadata": {},
      "source": [
        "Se observa de que existen valores categóricos que están mal Clasificados en el Category, por lo que se procede a realizar la homologación de los valores atípicos en estos campos"
      ]
    },
    {
      "cell_type": "code",
      "execution_count": 17,
      "metadata": {},
      "outputs": [
        {
          "name": "stdout",
          "output_type": "stream",
          "text": [
            "ETICO_OTC\n",
            "Etico             72.04%\n",
            "Popular           19.61%\n",
            "Sin Clasificar     8.35%\n",
            "Name: proportion, dtype: object\n",
            "MARCA_GENERICO\n",
            "Marca       68.9%\n",
            "Generico    31.1%\n",
            "Name: proportion, dtype: object\n"
          ]
        }
      ],
      "source": [
        "df_prescripciones['ETICO_OTC'] = df_prescripciones['ETICO_OTC'].replace({'0': 'Sin Clasificar', 'ETICO': 'Etico'})\n",
        "df_prescripciones['MARCA_GENERICO'] = df_prescripciones['MARCA_GENERICO'].replace({'marca': 'Marca'})\n",
        "print((df_prescripciones.value_counts('ETICO_OTC',normalize=True)*100).round(2).astype(str)+'%')\n",
        "print((df_prescripciones.value_counts('MARCA_GENERICO',normalize=True)*100).round(2).astype(str)+'%')"
      ]
    },
    {
      "cell_type": "markdown",
      "metadata": {},
      "source": [
        "Se ajustan los valores categóricos de producto, agrupando los valores en categorías únicas"
      ]
    },
    {
      "cell_type": "code",
      "execution_count": 19,
      "metadata": {},
      "outputs": [
        {
          "name": "stdout",
          "output_type": "stream",
          "text": [
            "ESPECIALIDAD\n",
            "MEDI.GENERAL                      10.65%\n",
            "MEDI.INTERNA                        5.8%\n",
            "INSTITUCIONES                      5.29%\n",
            "GINECOLOGIA                         5.1%\n",
            "PEDIATRIA                          4.76%\n",
            "DERMATOLOGIA                       4.04%\n",
            "MEDICINA FAMILIAR                  3.99%\n",
            "CIRUGIA                            3.38%\n",
            "GASTROENTER.                       3.31%\n",
            "CARDIOLOGIA                        3.29%\n",
            "OTORRINOLAR.                       3.23%\n",
            "ORTOPEDIA                          3.11%\n",
            "PSIQUIATRIA                        2.83%\n",
            "UROLOGIA                           2.69%\n",
            "OFTALMOLOGIA                       2.51%\n",
            "CIR.PLAST/RP                       2.43%\n",
            "NEUROLOGIA                         2.41%\n",
            "ENDOCRINOLOG                       2.34%\n",
            "NEUMO-TISIOL                       2.26%\n",
            "OPTOMETRIA                         1.94%\n",
            "FISIATRIA                          1.64%\n",
            "REUMATOLOGIA                       1.56%\n",
            "NEFROL-DIALI                       1.52%\n",
            "TR.INTENSIVA                       1.43%\n",
            "ODONTOLOGIA                        1.37%\n",
            "ANESTESIOLOG                       1.33%\n",
            "MED ALTERNATIVA(HOMEOPATA,NATU     1.19%\n",
            "NEUROCIRUGIA                       1.17%\n",
            "MEDICINA DEL DOLOR Y CUIDADO P     0.98%\n",
            "URGENCIOLOGIA                      0.98%\n",
            "ONCOLOGIA                          0.94%\n",
            "DIABET-NUTRI                       0.94%\n",
            "ALERGIA-INMU                       0.93%\n",
            "ANGIO-FLEBOL                       0.89%\n",
            "EPIDEMIOLOGIA                      0.88%\n",
            "GERIATRIA                          0.85%\n",
            "CIRUGIA MAXILOFACIAL (ORAL Y M     0.75%\n",
            "CIR.CARDIOV.                       0.71%\n",
            "HEMATOLOGIA                        0.62%\n",
            "PROCTOLOGIA                        0.57%\n",
            "DEPORTOLOGIA                       0.47%\n",
            "NEONATOLOGIA                       0.47%\n",
            "MEDICINA ESTETICA                  0.46%\n",
            "INFECTOLOGIA                       0.31%\n",
            "RADIOLOGIA                         0.31%\n",
            "TRAUMATOLOG.                       0.25%\n",
            "MASTOLOGIA                         0.23%\n",
            "OTRAS                              0.19%\n",
            "TOXICOLOGIA                        0.19%\n",
            "MEDICINA NUCLEAR GENERAL           0.18%\n",
            "ESTOMATOLOG.                       0.12%\n",
            "FONOAUDILOGIA                       0.1%\n",
            "CIRUGIA DE TORAX                   0.09%\n",
            "ESTERILIDAD                        0.03%\n",
            "SEXOLOGIA                          0.01%\n",
            "OBSTETRICIA                         0.0%\n",
            "Name: proportion, dtype: object\n"
          ]
        }
      ],
      "source": [
        "print((df_prescripciones.value_counts('ESPECIALIDAD',normalize=True)*100).round(2).astype(str)+'%')"
      ]
    },
    {
      "cell_type": "markdown",
      "metadata": {},
      "source": [
        "Las especialidades están bien cruzadas, no se observan especialidades anómalas"
      ]
    },
    {
      "cell_type": "code",
      "execution_count": 22,
      "metadata": {},
      "outputs": [
        {
          "name": "stdout",
          "output_type": "stream",
          "text": [
            "LABORATORIO\n",
            "LAB NO INDICADO    18.7%\n",
            "MCKESSON           8.09%\n",
            "TECNOQUIMICAS      4.62%\n",
            "NOVAMED            3.38%\n",
            "LAFRANCOL          3.09%\n",
            "                   ...  \n",
            "GILMEDICA           0.0%\n",
            "ERON                0.0%\n",
            "CARLON LTDA         0.0%\n",
            "BAUSCH&LOMB         0.0%\n",
            "BIOTEFAR            0.0%\n",
            "Name: proportion, Length: 384, dtype: object\n"
          ]
        }
      ],
      "source": [
        "print((df_prescripciones.value_counts('LABORATORIO',normalize=True)*100).round(2).astype(str)+'%')"
      ]
    },
    {
      "cell_type": "markdown",
      "metadata": {},
      "source": [
        "Existen 384 Laboratorios en esta muestra de datos, por lo que a través de un CSV se analiza que tampoco hay valores anómalos"
      ]
    },
    {
      "cell_type": "markdown",
      "metadata": {},
      "source": [
        "#### <a id='toc1_1_2_4_'></a>[**Análisis de las variables Enteras**](#toc0_)"
      ]
    },
    {
      "cell_type": "code",
      "execution_count": 23,
      "metadata": {},
      "outputs": [
        {
          "data": {
            "text/html": [
              "<div>\n",
              "<style scoped>\n",
              "    .dataframe tbody tr th:only-of-type {\n",
              "        vertical-align: middle;\n",
              "    }\n",
              "\n",
              "    .dataframe tbody tr th {\n",
              "        vertical-align: top;\n",
              "    }\n",
              "\n",
              "    .dataframe thead th {\n",
              "        text-align: right;\n",
              "    }\n",
              "</style>\n",
              "<table border=\"1\" class=\"dataframe\">\n",
              "  <thead>\n",
              "    <tr style=\"text-align: right;\">\n",
              "      <th></th>\n",
              "      <th>VALOR</th>\n",
              "      <th>NO_PRODUCTOS</th>\n",
              "      <th>NO_CONCENTRACIONES</th>\n",
              "      <th>NO_CLASES_T</th>\n",
              "    </tr>\n",
              "  </thead>\n",
              "  <tbody>\n",
              "    <tr>\n",
              "      <th>count</th>\n",
              "      <td>219605.000000</td>\n",
              "      <td>219605.000000</td>\n",
              "      <td>219605.000000</td>\n",
              "      <td>219605.000000</td>\n",
              "    </tr>\n",
              "    <tr>\n",
              "      <th>mean</th>\n",
              "      <td>14.322251</td>\n",
              "      <td>1.335862</td>\n",
              "      <td>1.242249</td>\n",
              "      <td>1.024471</td>\n",
              "    </tr>\n",
              "    <tr>\n",
              "      <th>std</th>\n",
              "      <td>67.162790</td>\n",
              "      <td>0.926958</td>\n",
              "      <td>0.622133</td>\n",
              "      <td>0.256254</td>\n",
              "    </tr>\n",
              "    <tr>\n",
              "      <th>min</th>\n",
              "      <td>1.000000</td>\n",
              "      <td>1.000000</td>\n",
              "      <td>1.000000</td>\n",
              "      <td>1.000000</td>\n",
              "    </tr>\n",
              "    <tr>\n",
              "      <th>25%</th>\n",
              "      <td>1.000000</td>\n",
              "      <td>1.000000</td>\n",
              "      <td>1.000000</td>\n",
              "      <td>1.000000</td>\n",
              "    </tr>\n",
              "    <tr>\n",
              "      <th>50%</th>\n",
              "      <td>2.000000</td>\n",
              "      <td>1.000000</td>\n",
              "      <td>1.000000</td>\n",
              "      <td>1.000000</td>\n",
              "    </tr>\n",
              "    <tr>\n",
              "      <th>75%</th>\n",
              "      <td>6.000000</td>\n",
              "      <td>1.000000</td>\n",
              "      <td>1.000000</td>\n",
              "      <td>1.000000</td>\n",
              "    </tr>\n",
              "    <tr>\n",
              "      <th>max</th>\n",
              "      <td>4374.000000</td>\n",
              "      <td>44.000000</td>\n",
              "      <td>11.000000</td>\n",
              "      <td>16.000000</td>\n",
              "    </tr>\n",
              "  </tbody>\n",
              "</table>\n",
              "</div>"
            ],
            "text/plain": [
              "               VALOR   NO_PRODUCTOS  NO_CONCENTRACIONES    NO_CLASES_T\n",
              "count  219605.000000  219605.000000       219605.000000  219605.000000\n",
              "mean       14.322251       1.335862            1.242249       1.024471\n",
              "std        67.162790       0.926958            0.622133       0.256254\n",
              "min         1.000000       1.000000            1.000000       1.000000\n",
              "25%         1.000000       1.000000            1.000000       1.000000\n",
              "50%         2.000000       1.000000            1.000000       1.000000\n",
              "75%         6.000000       1.000000            1.000000       1.000000\n",
              "max      4374.000000      44.000000           11.000000      16.000000"
            ]
          },
          "execution_count": 23,
          "metadata": {},
          "output_type": "execute_result"
        }
      ],
      "source": [
        "df_prescripciones[['VALOR', 'NO_PRODUCTOS', 'NO_CONCENTRACIONES', 'NO_CLASES_T']].describe()"
      ]
    },
    {
      "cell_type": "markdown",
      "metadata": {},
      "source": [
        "Basándonos en los resultados numéricos, podemos inferir lo siguiente:\n",
        "\n",
        "- Valores Atípicos: La columna 'VALOR' presenta una gran diferencia entre el valor máximo (4374) y el tercer cuartil (6). Esto sugiere la presencia de valores atípicos extremadamente altos que podrían distorsionar el análisis.\n",
        "\n",
        "- Distribución Desigual: Las columnas 'NO_PRODUCTOS', 'NO_CONCENTRACIONES' y 'NO_CLASES_T' muestran una fuerte tendencia hacia valores bajos (1 en la mayoría de los casos). Esto indica que la mayoría de las prescripciones contienen un solo producto, una sola concentración y pertenecen a una sola clase terapéutica.\n",
        "\n",
        "- Variabilidad: La columna 'VALOR' exhibe una desviación estándar considerable, lo que implica una alta variabilidad en los valores. Las otras columnas, en cambio, tienen una desviación estándar mucho menor, sugiriendo una menor variabilidad\n",
        "\n",
        "- La mayoría de las prescripciones son relativamente simples, con un solo producto y una sola concentración.\n",
        "El valor total de las prescripciones varía considerablemente, con algunos casos excepcionales de valores muy altos.\n",
        "\n",
        "Se observa gráficamente lo descrito con los siguientes gráficos:"
      ]
    },
    {
      "cell_type": "code",
      "execution_count": 25,
      "metadata": {},
      "outputs": [
        {
          "data": {
            "image/png": "[encoded data removed]",
            "text/plain": [
              "<Figure size 3000x2000 with 4 Axes>"
            ]
          },
          "metadata": {},
          "output_type": "display_data"
        }
      ],
      "source": [
        "fig, axes = plt.subplots(nrows=2, ncols=2, figsize=(15,10))\n",
        "df_prescripciones[['VALOR', 'NO_PRODUCTOS', 'NO_CONCENTRACIONES', 'NO_CLASES_T']].plot.box(subplots=True, ax=axes)\n",
        "plt.show()"
      ]
    }
  ],
  "metadata": {
    "colab": {
      "include_colab_link": true,
      "provenance": []
    },
    "kernelspec": {
      "display_name": "Python 3",
      "name": "python3"
    },
    "language_info": {
      "codemirror_mode": {
        "name": "ipython",
        "version": 3
      },
      "file_extension": ".py",
      "mimetype": "text/x-python",
      "name": "python",
      "nbconvert_exporter": "python",
      "pygments_lexer": "ipython3",
      "version": "3.9.5"
    }
  },
  "nbformat": 4,
  "nbformat_minor": 0
}
