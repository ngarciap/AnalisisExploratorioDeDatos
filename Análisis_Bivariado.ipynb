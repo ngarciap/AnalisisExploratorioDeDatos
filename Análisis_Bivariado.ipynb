{
  "cells": [
    {
      "cell_type": "markdown",
      "metadata": {
        "colab_type": "text",
        "id": "view-in-github"
      },
      "source": [
        "<a href=\"https://colab.research.google.com/github/ngarciap/AnalisisExploratorioDeDatos/blob/main/An%C3%A1lisis_Bivariado.ipynb\" target=\"_parent\"><img src=\"https://colab.research.google.com/assets/colab-badge.svg\" alt=\"Open In Colab\"/></a>"
      ]
    },
    {
      "cell_type": "markdown",
      "metadata": {
        "id": "2ehD3faLd89N"
      },
      "source": [
        "## **Análisis Bivariado con Dataset de Prescripciones del mercado**\n",
        "***Análisis Bivariado / Asociado a mi pregunta SMART***"
      ]
    },
    {
      "cell_type": "code",
      "execution_count": null,
      "metadata": {},
      "outputs": [],
      "source": [
        "# Importar librerias\n",
        "import pandas as pd\n",
        "import numpy as np\n",
        "import os\n",
        "\n",
        "# Matplotlib y  seaborn para gráficos\n",
        "import matplotlib.pyplot as plt\n",
        "import matplotlib\n",
        "%matplotlib inline\n",
        "\n",
        "matplotlib.rcParams['font.size'] = 8\n",
        "matplotlib.rcParams['figure.dpi'] = 200\n",
        "\n",
        "#from google.colab import drive\n",
        "\n",
        "\"\"\" Cargar Dataframes desde Google Drive\n",
        "drive.mount('/content/drive', force_remount=True)\n",
        "df_producto = pd.read_csv('/content/drive/MyDrive/Colab Notebooks/Analisis Exploratorio de Datos/Bases/Market COL Jun/CUP_PRODUTO.TXT', sep='\t', encoding='latin1', dtype=str)\n",
        "df_laboratorio = pd.read_csv('/content/drive/MyDrive/Colab Notebooks/Analisis Exploratorio de Datos/Bases/Market COL Jun/CUP_LABORATORIO.TXT', sep='\t', encoding='latin1', dtype=str)\n",
        "df_prescripciones = pd.read_csv('/content/drive/MyDrive/Colab Notebooks/Analisis Exploratorio de Datos/Bases/Market COL Jun/CUP_FATO.TXT', sep='\t', encoding='latin1', dtype=str)\n",
        "df_category = pd.read_excel('/content/drive/MyDrive/Colab Notebooks/Analisis Exploratorio de Datos/Bases/Market COL Jun/Category.xlsx', engine='openpyxl', dtype=str)\n",
        "\"\"\"\n",
        "# Cargar Dataframes desde máquina local\n",
        "df_producto = pd.read_csv(os.path.join(os.getcwd() + \"\\Bases\", \"CUP_PRODUTO.TXT\"), sep='\t', encoding='latin1', dtype=str)\n",
        "df_laboratorio = pd.read_csv(os.path.join(os.getcwd() + \"\\Bases\", \"CUP_LABORATORIO.TXT\"), sep='\t', encoding='latin1', dtype=str)\n",
        "df_prescripciones = pd.read_csv(os.path.join(os.getcwd() + \"\\Bases\", \"CUP_FATO.TXT\"), sep='\t', encoding='latin1', dtype=str)\n",
        "df_category = pd.read_excel(os.path.join(os.getcwd() + \"\\Bases\", \"Category.xlsx\"), engine='openpyxl', dtype=str)"
      ]
    },
    {
      "cell_type": "markdown",
      "metadata": {},
      "source": [
        "**Se procede a Cruzar la Tabla principal de Rx con Productos y Laboratorios para poder obtener un Dataframe que me inidque prescripciones por laboratorio de todo el Dataset**"
      ]
    },
    {
      "cell_type": "code",
      "execution_count": null,
      "metadata": {},
      "outputs": [],
      "source": [
        "# Alistamiento de tabla de productos para traer el Laboratorio y cruzar con los articulos claisificados corporativamente\n",
        "df_producto_completo = pd.merge(df_producto, df_laboratorio, how='inner', left_on='PRO_LAB_ID', right_on='LAB_ID')\n",
        "df_producto_completo = pd.merge(df_producto_completo, df_category, how = 'inner', on='PRO_ID')\n",
        "\n",
        "col_descriptivas = df_prescripciones.columns[:df_prescripciones.columns.get_loc('ESP_ID') + 1].tolist()\n",
        "col_meses = df_prescripciones.columns[df_prescripciones.columns.get_loc('ESP_ID') + 1:].tolist()\n",
        "df_prescripciones[col_meses] = df_prescripciones[col_meses].astype(int)\n",
        "\n",
        "df_prescripciones = df_prescripciones.groupby(col_descriptivas)[col_meses].sum().reset_index()\n",
        "df_prescripciones = pd.melt(df_prescripciones, id_vars=col_descriptivas, var_name='PERIODO', value_name='VALOR')\n",
        "df_prescripciones = df_prescripciones[df_prescripciones['VALOR'] != 0]\n",
        "\n",
        "# Cruce de Prescrupciones con Producto y filtrado de Columnas de interés\n",
        "df_prescripciones = pd.merge(df_prescripciones, df_producto_completo, how='inner', on='PRO_ID')\n",
        "df_prescripciones_agrupado = df_prescripciones.groupby(['LAB_DESC', 'PERIODO'])['VALOR'].sum().reset_index()\n",
        "\n",
        "# Se filtra el último mes de la base para analizarlo\n",
        "df_prescripciones_agrupado = df_prescripciones_agrupado[df_prescripciones_agrupado['PERIODO'] == 'MES59']"
      ]
    }
  ],
  "metadata": {
    "colab": {
      "authorship_tag": "ABX9TyNRAPunHGdt1FUJ5aL8Q5E1",
      "include_colab_link": true,
      "provenance": []
    },
    "kernelspec": {
      "display_name": "Python 3",
      "name": "python3"
    },
    "language_info": {
      "name": "python"
    }
  },
  "nbformat": 4,
  "nbformat_minor": 0
}
