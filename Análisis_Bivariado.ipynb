{
  "nbformat": 4,
  "nbformat_minor": 0,
  "metadata": {
    "colab": {
      "provenance": [],
      "authorship_tag": "ABX9TyNRAPunHGdt1FUJ5aL8Q5E1",
      "include_colab_link": true
    },
    "kernelspec": {
      "name": "python3",
      "display_name": "Python 3"
    },
    "language_info": {
      "name": "python"
    }
  },
  "cells": [
    {
      "cell_type": "markdown",
      "metadata": {
        "id": "view-in-github",
        "colab_type": "text"
      },
      "source": [
        "<a href=\"https://colab.research.google.com/github/ngarciap/AnalisisExploratorioDeDatos/blob/main/An%C3%A1lisis_Bivariado.ipynb\" target=\"_parent\"><img src=\"https://colab.research.google.com/assets/colab-badge.svg\" alt=\"Open In Colab\"/></a>"
      ]
    },
    {
      "cell_type": "markdown",
      "source": [
        "## **Análisis Bivariado con Dataser de Prescripciones del mercado**\n",
        "***Análisis Bivariado / Asociado a mi pregunta SMART***"
      ],
      "metadata": {
        "id": "2ehD3faLd89N"
      }
    }
  ]
}